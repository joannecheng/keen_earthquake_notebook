{
 "cells": [
  {
   "cell_type": "code",
   "execution_count": 1,
   "metadata": {
    "collapsed": true
   },
   "outputs": [],
   "source": [
    "import keen\n",
    "from keen.client import KeenClient\n",
    "import arrow\n",
    "\n",
    "KEEN_PROJECT_ID = \"572dfdae3831443195b2f30c\"\n",
    "KEEN_READ_KEY = \"5de7f166da2e36f6c8617347a7a729cfda6d5413db8d88d7f696b61ddaa4fe1e5cdb7d019de9bb0ac846d91e83cdac01e973585d0fba43fadf92f06a695558b890665da824a0cf6a946ac09f5746c9102d228a1165323fdd0c52c92b80e78eca\"\n",
    "\n",
    "client = KeenClient(\n",
    "    project_id=KEEN_PROJECT_ID,\n",
    "    read_key=KEEN_READ_KEY\n",
    ")"
   ]
  },
  {
   "cell_type": "code",
   "execution_count": 2,
   "metadata": {
    "collapsed": false
   },
   "outputs": [
    {
     "name": "stdout",
     "output_type": "stream",
     "text": [
      "44160\n"
     ]
    }
   ],
   "source": [
    "total_earthquakes = client.count_unique(\"earthquakes\",\n",
    "    timeframe={\n",
    "        \"start\": \"2016-10-01 00:00:00+00:00\",\n",
    "        \"end\": \"2017-2-28 00:00:00+00:00\"\n",
    "    },\n",
    "    target_property=\"id\"\n",
    ")\n",
    "print(total_earthquakes)"
   ]
  },
  {
   "cell_type": "code",
   "execution_count": 3,
   "metadata": {
    "collapsed": false
   },
   "outputs": [],
   "source": [
    "earthquakes_by_day = client.count_unique(\"earthquakes\",\n",
    "    timeframe={\n",
    "        \"start\": \"2016-10-01 00:00:00+00:00\",\n",
    "        \"end\": \"2017-2-28 00:00:00+00:00\"\n",
    "    },\n",
    "    target_property=\"id\",\n",
    "    interval=\"daily\"\n",
    ")\n",
    "# print(earthquakes_by_day)"
   ]
  },
  {
   "cell_type": "code",
   "execution_count": 4,
   "metadata": {
    "collapsed": false
   },
   "outputs": [
    {
     "name": "stdout",
     "output_type": "stream",
     "text": [
      "{'value': 555, 'timeframe': {'start': '2016-12-28T00:00:00.000Z', 'end': '2016-12-29T00:00:00.000Z'}}\n",
      "{'value': 213, 'timeframe': {'start': '2016-12-16T00:00:00.000Z', 'end': '2016-12-17T00:00:00.000Z'}}\n"
     ]
    }
   ],
   "source": [
    "print(max(earthquakes_by_day, key=lambda x: x[\"value\"]))\n",
    "print(min(earthquakes_by_day, key=lambda x: x[\"value\"]))"
   ]
  },
  {
   "cell_type": "code",
   "execution_count": null,
   "metadata": {
    "collapsed": true
   },
   "outputs": [],
   "source": []
  }
 ],
 "metadata": {
  "kernelspec": {
   "display_name": "Python 3",
   "language": "python",
   "name": "python3"
  },
  "language_info": {
   "codemirror_mode": {
    "name": "ipython",
    "version": 3
   },
   "file_extension": ".py",
   "mimetype": "text/x-python",
   "name": "python",
   "nbconvert_exporter": "python",
   "pygments_lexer": "ipython3",
   "version": "3.5.2"
  }
 },
 "nbformat": 4,
 "nbformat_minor": 1
}
