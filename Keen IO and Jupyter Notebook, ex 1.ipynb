{
 "cells": [
  {
   "cell_type": "code",
   "execution_count": 4,
   "metadata": {
    "collapsed": true
   },
   "outputs": [],
   "source": [
    "import keen\n",
    "from keen.client import KeenClient\n",
    "import arrow\n",
    "\n",
    "KEEN_PROJECT_ID = \"572dfdae3831443195b2f30c\"\n",
    "KEEN_READ_KEY = \"5de7f166da2e36f6c8617347a7a729cfda6d5413db8d88d7f696b61ddaa4fe1e5cdb7d019de9bb0ac846d91e83cdac01e973585d0fba43fadf92f06a695558b890665da824a0cf6a946ac09f5746c9102d228a1165323fdd0c52c92b80e78eca\"\n",
    "\n",
    "client = KeenClient(\n",
    "    project_id=KEEN_PROJECT_ID,\n",
    "    read_key=KEEN_READ_KEY\n",
    ")"
   ]
  },
  {
   "cell_type": "code",
   "execution_count": 8,
   "metadata": {
    "collapsed": false
   },
   "outputs": [
    {
     "name": "stdout",
     "output_type": "stream",
     "text": [
      "44160\n"
     ]
    }
   ],
   "source": [
    "total_earthquakes = client.count_unique(\"earthquakes\",\n",
    "    timeframe={\n",
    "        \"start\": \"2016-10-01 00:00:00+00:00\",\n",
    "        \"end\": \"2017-2-28 00:00:00+00:00\"\n",
    "    },\n",
    "    target_property=\"id\"\n",
    ")\n",
    "print(total_earthquakes)"
   ]
  },
  {
   "cell_type": "code",
   "execution_count": 9,
   "metadata": {
    "collapsed": false
   },
   "outputs": [
    {
     "name": "stdout",
     "output_type": "stream",
     "text": [
      "[{'value': 284, 'timeframe': {'start': '2016-10-01T00:00:00.000Z', 'end': '2016-10-02T00:00:00.000Z'}}, {'value': 305, 'timeframe': {'start': '2016-10-02T00:00:00.000Z', 'end': '2016-10-03T00:00:00.000Z'}}, {'value': 282, 'timeframe': {'start': '2016-10-03T00:00:00.000Z', 'end': '2016-10-04T00:00:00.000Z'}}, {'value': 300, 'timeframe': {'start': '2016-10-04T00:00:00.000Z', 'end': '2016-10-05T00:00:00.000Z'}}, {'value': 341, 'timeframe': {'start': '2016-10-05T00:00:00.000Z', 'end': '2016-10-06T00:00:00.000Z'}}, {'value': 311, 'timeframe': {'start': '2016-10-06T00:00:00.000Z', 'end': '2016-10-07T00:00:00.000Z'}}, {'value': 322, 'timeframe': {'start': '2016-10-07T00:00:00.000Z', 'end': '2016-10-08T00:00:00.000Z'}}, {'value': 331, 'timeframe': {'start': '2016-10-08T00:00:00.000Z', 'end': '2016-10-09T00:00:00.000Z'}}, {'value': 365, 'timeframe': {'start': '2016-10-09T00:00:00.000Z', 'end': '2016-10-10T00:00:00.000Z'}}, {'value': 339, 'timeframe': {'start': '2016-10-10T00:00:00.000Z', 'end': '2016-10-11T00:00:00.000Z'}}, {'value': 319, 'timeframe': {'start': '2016-10-11T00:00:00.000Z', 'end': '2016-10-12T00:00:00.000Z'}}, {'value': 229, 'timeframe': {'start': '2016-10-12T00:00:00.000Z', 'end': '2016-10-13T00:00:00.000Z'}}, {'value': 244, 'timeframe': {'start': '2016-10-13T00:00:00.000Z', 'end': '2016-10-14T00:00:00.000Z'}}, {'value': 294, 'timeframe': {'start': '2016-10-14T00:00:00.000Z', 'end': '2016-10-15T00:00:00.000Z'}}, {'value': 260, 'timeframe': {'start': '2016-10-15T00:00:00.000Z', 'end': '2016-10-16T00:00:00.000Z'}}, {'value': 254, 'timeframe': {'start': '2016-10-16T00:00:00.000Z', 'end': '2016-10-17T00:00:00.000Z'}}, {'value': 249, 'timeframe': {'start': '2016-10-17T00:00:00.000Z', 'end': '2016-10-18T00:00:00.000Z'}}, {'value': 221, 'timeframe': {'start': '2016-10-18T00:00:00.000Z', 'end': '2016-10-19T00:00:00.000Z'}}, {'value': 255, 'timeframe': {'start': '2016-10-19T00:00:00.000Z', 'end': '2016-10-20T00:00:00.000Z'}}, {'value': 279, 'timeframe': {'start': '2016-10-20T00:00:00.000Z', 'end': '2016-10-21T00:00:00.000Z'}}, {'value': 337, 'timeframe': {'start': '2016-10-21T00:00:00.000Z', 'end': '2016-10-22T00:00:00.000Z'}}, {'value': 259, 'timeframe': {'start': '2016-10-22T00:00:00.000Z', 'end': '2016-10-23T00:00:00.000Z'}}, {'value': 277, 'timeframe': {'start': '2016-10-23T00:00:00.000Z', 'end': '2016-10-24T00:00:00.000Z'}}, {'value': 260, 'timeframe': {'start': '2016-10-24T00:00:00.000Z', 'end': '2016-10-25T00:00:00.000Z'}}, {'value': 292, 'timeframe': {'start': '2016-10-25T00:00:00.000Z', 'end': '2016-10-26T00:00:00.000Z'}}, {'value': 319, 'timeframe': {'start': '2016-10-26T00:00:00.000Z', 'end': '2016-10-27T00:00:00.000Z'}}, {'value': 357, 'timeframe': {'start': '2016-10-27T00:00:00.000Z', 'end': '2016-10-28T00:00:00.000Z'}}, {'value': 329, 'timeframe': {'start': '2016-10-28T00:00:00.000Z', 'end': '2016-10-29T00:00:00.000Z'}}, {'value': 311, 'timeframe': {'start': '2016-10-29T00:00:00.000Z', 'end': '2016-10-30T00:00:00.000Z'}}, {'value': 269, 'timeframe': {'start': '2016-10-30T00:00:00.000Z', 'end': '2016-10-31T00:00:00.000Z'}}, {'value': 312, 'timeframe': {'start': '2016-10-31T00:00:00.000Z', 'end': '2016-11-01T00:00:00.000Z'}}, {'value': 238, 'timeframe': {'start': '2016-11-01T00:00:00.000Z', 'end': '2016-11-02T00:00:00.000Z'}}, {'value': 248, 'timeframe': {'start': '2016-11-02T00:00:00.000Z', 'end': '2016-11-03T00:00:00.000Z'}}, {'value': 268, 'timeframe': {'start': '2016-11-03T00:00:00.000Z', 'end': '2016-11-04T00:00:00.000Z'}}, {'value': 322, 'timeframe': {'start': '2016-11-04T00:00:00.000Z', 'end': '2016-11-05T00:00:00.000Z'}}, {'value': 236, 'timeframe': {'start': '2016-11-05T00:00:00.000Z', 'end': '2016-11-06T00:00:00.000Z'}}, {'value': 281, 'timeframe': {'start': '2016-11-06T00:00:00.000Z', 'end': '2016-11-07T00:00:00.000Z'}}, {'value': 341, 'timeframe': {'start': '2016-11-07T00:00:00.000Z', 'end': '2016-11-08T00:00:00.000Z'}}, {'value': 292, 'timeframe': {'start': '2016-11-08T00:00:00.000Z', 'end': '2016-11-09T00:00:00.000Z'}}, {'value': 271, 'timeframe': {'start': '2016-11-09T00:00:00.000Z', 'end': '2016-11-10T00:00:00.000Z'}}, {'value': 229, 'timeframe': {'start': '2016-11-10T00:00:00.000Z', 'end': '2016-11-11T00:00:00.000Z'}}, {'value': 286, 'timeframe': {'start': '2016-11-11T00:00:00.000Z', 'end': '2016-11-12T00:00:00.000Z'}}, {'value': 272, 'timeframe': {'start': '2016-11-12T00:00:00.000Z', 'end': '2016-11-13T00:00:00.000Z'}}, {'value': 281, 'timeframe': {'start': '2016-11-13T00:00:00.000Z', 'end': '2016-11-14T00:00:00.000Z'}}, {'value': 372, 'timeframe': {'start': '2016-11-14T00:00:00.000Z', 'end': '2016-11-15T00:00:00.000Z'}}, {'value': 339, 'timeframe': {'start': '2016-11-15T00:00:00.000Z', 'end': '2016-11-16T00:00:00.000Z'}}, {'value': 268, 'timeframe': {'start': '2016-11-16T00:00:00.000Z', 'end': '2016-11-17T00:00:00.000Z'}}, {'value': 291, 'timeframe': {'start': '2016-11-17T00:00:00.000Z', 'end': '2016-11-18T00:00:00.000Z'}}, {'value': 323, 'timeframe': {'start': '2016-11-18T00:00:00.000Z', 'end': '2016-11-19T00:00:00.000Z'}}, {'value': 245, 'timeframe': {'start': '2016-11-19T00:00:00.000Z', 'end': '2016-11-20T00:00:00.000Z'}}, {'value': 269, 'timeframe': {'start': '2016-11-20T00:00:00.000Z', 'end': '2016-11-21T00:00:00.000Z'}}, {'value': 318, 'timeframe': {'start': '2016-11-21T00:00:00.000Z', 'end': '2016-11-22T00:00:00.000Z'}}, {'value': 323, 'timeframe': {'start': '2016-11-22T00:00:00.000Z', 'end': '2016-11-23T00:00:00.000Z'}}, {'value': 272, 'timeframe': {'start': '2016-11-23T00:00:00.000Z', 'end': '2016-11-24T00:00:00.000Z'}}, {'value': 299, 'timeframe': {'start': '2016-11-24T00:00:00.000Z', 'end': '2016-11-25T00:00:00.000Z'}}, {'value': 347, 'timeframe': {'start': '2016-11-25T00:00:00.000Z', 'end': '2016-11-26T00:00:00.000Z'}}, {'value': 303, 'timeframe': {'start': '2016-11-26T00:00:00.000Z', 'end': '2016-11-27T00:00:00.000Z'}}, {'value': 236, 'timeframe': {'start': '2016-11-27T00:00:00.000Z', 'end': '2016-11-28T00:00:00.000Z'}}, {'value': 297, 'timeframe': {'start': '2016-11-28T00:00:00.000Z', 'end': '2016-11-29T00:00:00.000Z'}}, {'value': 264, 'timeframe': {'start': '2016-11-29T00:00:00.000Z', 'end': '2016-11-30T00:00:00.000Z'}}, {'value': 293, 'timeframe': {'start': '2016-11-30T00:00:00.000Z', 'end': '2016-12-01T00:00:00.000Z'}}, {'value': 285, 'timeframe': {'start': '2016-12-01T00:00:00.000Z', 'end': '2016-12-02T00:00:00.000Z'}}, {'value': 261, 'timeframe': {'start': '2016-12-02T00:00:00.000Z', 'end': '2016-12-03T00:00:00.000Z'}}, {'value': 241, 'timeframe': {'start': '2016-12-03T00:00:00.000Z', 'end': '2016-12-04T00:00:00.000Z'}}, {'value': 277, 'timeframe': {'start': '2016-12-04T00:00:00.000Z', 'end': '2016-12-05T00:00:00.000Z'}}, {'value': 291, 'timeframe': {'start': '2016-12-05T00:00:00.000Z', 'end': '2016-12-06T00:00:00.000Z'}}, {'value': 311, 'timeframe': {'start': '2016-12-06T00:00:00.000Z', 'end': '2016-12-07T00:00:00.000Z'}}, {'value': 263, 'timeframe': {'start': '2016-12-07T00:00:00.000Z', 'end': '2016-12-08T00:00:00.000Z'}}, {'value': 280, 'timeframe': {'start': '2016-12-08T00:00:00.000Z', 'end': '2016-12-09T00:00:00.000Z'}}, {'value': 284, 'timeframe': {'start': '2016-12-09T00:00:00.000Z', 'end': '2016-12-10T00:00:00.000Z'}}, {'value': 302, 'timeframe': {'start': '2016-12-10T00:00:00.000Z', 'end': '2016-12-11T00:00:00.000Z'}}, {'value': 315, 'timeframe': {'start': '2016-12-11T00:00:00.000Z', 'end': '2016-12-12T00:00:00.000Z'}}, {'value': 317, 'timeframe': {'start': '2016-12-12T00:00:00.000Z', 'end': '2016-12-13T00:00:00.000Z'}}, {'value': 292, 'timeframe': {'start': '2016-12-13T00:00:00.000Z', 'end': '2016-12-14T00:00:00.000Z'}}, {'value': 535, 'timeframe': {'start': '2016-12-14T00:00:00.000Z', 'end': '2016-12-15T00:00:00.000Z'}}, {'value': 285, 'timeframe': {'start': '2016-12-15T00:00:00.000Z', 'end': '2016-12-16T00:00:00.000Z'}}, {'value': 213, 'timeframe': {'start': '2016-12-16T00:00:00.000Z', 'end': '2016-12-17T00:00:00.000Z'}}, {'value': 369, 'timeframe': {'start': '2016-12-17T00:00:00.000Z', 'end': '2016-12-18T00:00:00.000Z'}}, {'value': 296, 'timeframe': {'start': '2016-12-18T00:00:00.000Z', 'end': '2016-12-19T00:00:00.000Z'}}, {'value': 284, 'timeframe': {'start': '2016-12-19T00:00:00.000Z', 'end': '2016-12-20T00:00:00.000Z'}}, {'value': 268, 'timeframe': {'start': '2016-12-20T00:00:00.000Z', 'end': '2016-12-21T00:00:00.000Z'}}, {'value': 272, 'timeframe': {'start': '2016-12-21T00:00:00.000Z', 'end': '2016-12-22T00:00:00.000Z'}}, {'value': 279, 'timeframe': {'start': '2016-12-22T00:00:00.000Z', 'end': '2016-12-23T00:00:00.000Z'}}, {'value': 257, 'timeframe': {'start': '2016-12-23T00:00:00.000Z', 'end': '2016-12-24T00:00:00.000Z'}}, {'value': 232, 'timeframe': {'start': '2016-12-24T00:00:00.000Z', 'end': '2016-12-25T00:00:00.000Z'}}, {'value': 230, 'timeframe': {'start': '2016-12-25T00:00:00.000Z', 'end': '2016-12-26T00:00:00.000Z'}}, {'value': 239, 'timeframe': {'start': '2016-12-26T00:00:00.000Z', 'end': '2016-12-27T00:00:00.000Z'}}, {'value': 269, 'timeframe': {'start': '2016-12-27T00:00:00.000Z', 'end': '2016-12-28T00:00:00.000Z'}}, {'value': 555, 'timeframe': {'start': '2016-12-28T00:00:00.000Z', 'end': '2016-12-29T00:00:00.000Z'}}, {'value': 495, 'timeframe': {'start': '2016-12-29T00:00:00.000Z', 'end': '2016-12-30T00:00:00.000Z'}}, {'value': 367, 'timeframe': {'start': '2016-12-30T00:00:00.000Z', 'end': '2016-12-31T00:00:00.000Z'}}, {'value': 410, 'timeframe': {'start': '2016-12-31T00:00:00.000Z', 'end': '2017-01-01T00:00:00.000Z'}}, {'value': 434, 'timeframe': {'start': '2017-01-01T00:00:00.000Z', 'end': '2017-01-02T00:00:00.000Z'}}, {'value': 373, 'timeframe': {'start': '2017-01-02T00:00:00.000Z', 'end': '2017-01-03T00:00:00.000Z'}}, {'value': 335, 'timeframe': {'start': '2017-01-03T00:00:00.000Z', 'end': '2017-01-04T00:00:00.000Z'}}, {'value': 363, 'timeframe': {'start': '2017-01-04T00:00:00.000Z', 'end': '2017-01-05T00:00:00.000Z'}}, {'value': 318, 'timeframe': {'start': '2017-01-05T00:00:00.000Z', 'end': '2017-01-06T00:00:00.000Z'}}, {'value': 348, 'timeframe': {'start': '2017-01-06T00:00:00.000Z', 'end': '2017-01-07T00:00:00.000Z'}}, {'value': 335, 'timeframe': {'start': '2017-01-07T00:00:00.000Z', 'end': '2017-01-08T00:00:00.000Z'}}, {'value': 313, 'timeframe': {'start': '2017-01-08T00:00:00.000Z', 'end': '2017-01-09T00:00:00.000Z'}}, {'value': 291, 'timeframe': {'start': '2017-01-09T00:00:00.000Z', 'end': '2017-01-10T00:00:00.000Z'}}, {'value': 277, 'timeframe': {'start': '2017-01-10T00:00:00.000Z', 'end': '2017-01-11T00:00:00.000Z'}}, {'value': 326, 'timeframe': {'start': '2017-01-11T00:00:00.000Z', 'end': '2017-01-12T00:00:00.000Z'}}, {'value': 280, 'timeframe': {'start': '2017-01-12T00:00:00.000Z', 'end': '2017-01-13T00:00:00.000Z'}}, {'value': 288, 'timeframe': {'start': '2017-01-13T00:00:00.000Z', 'end': '2017-01-14T00:00:00.000Z'}}, {'value': 292, 'timeframe': {'start': '2017-01-14T00:00:00.000Z', 'end': '2017-01-15T00:00:00.000Z'}}, {'value': 305, 'timeframe': {'start': '2017-01-15T00:00:00.000Z', 'end': '2017-01-16T00:00:00.000Z'}}, {'value': 350, 'timeframe': {'start': '2017-01-16T00:00:00.000Z', 'end': '2017-01-17T00:00:00.000Z'}}, {'value': 301, 'timeframe': {'start': '2017-01-17T00:00:00.000Z', 'end': '2017-01-18T00:00:00.000Z'}}, {'value': 319, 'timeframe': {'start': '2017-01-18T00:00:00.000Z', 'end': '2017-01-19T00:00:00.000Z'}}, {'value': 252, 'timeframe': {'start': '2017-01-19T00:00:00.000Z', 'end': '2017-01-20T00:00:00.000Z'}}, {'value': 275, 'timeframe': {'start': '2017-01-20T00:00:00.000Z', 'end': '2017-01-21T00:00:00.000Z'}}, {'value': 259, 'timeframe': {'start': '2017-01-21T00:00:00.000Z', 'end': '2017-01-22T00:00:00.000Z'}}, {'value': 278, 'timeframe': {'start': '2017-01-22T00:00:00.000Z', 'end': '2017-01-23T00:00:00.000Z'}}, {'value': 297, 'timeframe': {'start': '2017-01-23T00:00:00.000Z', 'end': '2017-01-24T00:00:00.000Z'}}, {'value': 330, 'timeframe': {'start': '2017-01-24T00:00:00.000Z', 'end': '2017-01-25T00:00:00.000Z'}}, {'value': 366, 'timeframe': {'start': '2017-01-25T00:00:00.000Z', 'end': '2017-01-26T00:00:00.000Z'}}, {'value': 250, 'timeframe': {'start': '2017-01-26T00:00:00.000Z', 'end': '2017-01-27T00:00:00.000Z'}}, {'value': 256, 'timeframe': {'start': '2017-01-27T00:00:00.000Z', 'end': '2017-01-28T00:00:00.000Z'}}, {'value': 264, 'timeframe': {'start': '2017-01-28T00:00:00.000Z', 'end': '2017-01-29T00:00:00.000Z'}}, {'value': 272, 'timeframe': {'start': '2017-01-29T00:00:00.000Z', 'end': '2017-01-30T00:00:00.000Z'}}, {'value': 223, 'timeframe': {'start': '2017-01-30T00:00:00.000Z', 'end': '2017-01-31T00:00:00.000Z'}}, {'value': 294, 'timeframe': {'start': '2017-01-31T00:00:00.000Z', 'end': '2017-02-01T00:00:00.000Z'}}, {'value': 292, 'timeframe': {'start': '2017-02-01T00:00:00.000Z', 'end': '2017-02-02T00:00:00.000Z'}}, {'value': 267, 'timeframe': {'start': '2017-02-02T00:00:00.000Z', 'end': '2017-02-03T00:00:00.000Z'}}, {'value': 221, 'timeframe': {'start': '2017-02-03T00:00:00.000Z', 'end': '2017-02-04T00:00:00.000Z'}}, {'value': 296, 'timeframe': {'start': '2017-02-04T00:00:00.000Z', 'end': '2017-02-05T00:00:00.000Z'}}, {'value': 265, 'timeframe': {'start': '2017-02-05T00:00:00.000Z', 'end': '2017-02-06T00:00:00.000Z'}}, {'value': 267, 'timeframe': {'start': '2017-02-06T00:00:00.000Z', 'end': '2017-02-07T00:00:00.000Z'}}, {'value': 259, 'timeframe': {'start': '2017-02-07T00:00:00.000Z', 'end': '2017-02-08T00:00:00.000Z'}}, {'value': 314, 'timeframe': {'start': '2017-02-08T00:00:00.000Z', 'end': '2017-02-09T00:00:00.000Z'}}, {'value': 231, 'timeframe': {'start': '2017-02-09T00:00:00.000Z', 'end': '2017-02-10T00:00:00.000Z'}}, {'value': 244, 'timeframe': {'start': '2017-02-10T00:00:00.000Z', 'end': '2017-02-11T00:00:00.000Z'}}, {'value': 285, 'timeframe': {'start': '2017-02-11T00:00:00.000Z', 'end': '2017-02-12T00:00:00.000Z'}}, {'value': 249, 'timeframe': {'start': '2017-02-12T00:00:00.000Z', 'end': '2017-02-13T00:00:00.000Z'}}, {'value': 309, 'timeframe': {'start': '2017-02-13T00:00:00.000Z', 'end': '2017-02-14T00:00:00.000Z'}}, {'value': 325, 'timeframe': {'start': '2017-02-14T00:00:00.000Z', 'end': '2017-02-15T00:00:00.000Z'}}, {'value': 339, 'timeframe': {'start': '2017-02-15T00:00:00.000Z', 'end': '2017-02-16T00:00:00.000Z'}}, {'value': 258, 'timeframe': {'start': '2017-02-16T00:00:00.000Z', 'end': '2017-02-17T00:00:00.000Z'}}, {'value': 238, 'timeframe': {'start': '2017-02-17T00:00:00.000Z', 'end': '2017-02-18T00:00:00.000Z'}}, {'value': 248, 'timeframe': {'start': '2017-02-18T00:00:00.000Z', 'end': '2017-02-19T00:00:00.000Z'}}, {'value': 353, 'timeframe': {'start': '2017-02-19T00:00:00.000Z', 'end': '2017-02-20T00:00:00.000Z'}}, {'value': 263, 'timeframe': {'start': '2017-02-20T00:00:00.000Z', 'end': '2017-02-21T00:00:00.000Z'}}, {'value': 247, 'timeframe': {'start': '2017-02-21T00:00:00.000Z', 'end': '2017-02-22T00:00:00.000Z'}}, {'value': 251, 'timeframe': {'start': '2017-02-22T00:00:00.000Z', 'end': '2017-02-23T00:00:00.000Z'}}, {'value': 284, 'timeframe': {'start': '2017-02-23T00:00:00.000Z', 'end': '2017-02-24T00:00:00.000Z'}}, {'value': 278, 'timeframe': {'start': '2017-02-24T00:00:00.000Z', 'end': '2017-02-25T00:00:00.000Z'}}, {'value': 288, 'timeframe': {'start': '2017-02-25T00:00:00.000Z', 'end': '2017-02-26T00:00:00.000Z'}}, {'value': 271, 'timeframe': {'start': '2017-02-26T00:00:00.000Z', 'end': '2017-02-27T00:00:00.000Z'}}, {'value': 250, 'timeframe': {'start': '2017-02-27T00:00:00.000Z', 'end': '2017-02-28T00:00:00.000Z'}}]\n"
     ]
    }
   ],
   "source": [
    "earthquakes_by_day = client.count_unique(\"earthquakes\",\n",
    "    timeframe={\n",
    "        \"start\": \"2016-10-01 00:00:00+00:00\",\n",
    "        \"end\": \"2017-2-28 00:00:00+00:00\"\n",
    "    },\n",
    "    target_property=\"id\",\n",
    "    interval=\"daily\"\n",
    ")\n",
    "# print(earthquakes_by_day)"
   ]
  },
  {
   "cell_type": "code",
   "execution_count": 10,
   "metadata": {
    "collapsed": false
   },
   "outputs": [
    {
     "name": "stdout",
     "output_type": "stream",
     "text": [
      "{'value': 555, 'timeframe': {'start': '2016-12-28T00:00:00.000Z', 'end': '2016-12-29T00:00:00.000Z'}}\n",
      "{'value': 213, 'timeframe': {'start': '2016-12-16T00:00:00.000Z', 'end': '2016-12-17T00:00:00.000Z'}}\n"
     ]
    }
   ],
   "source": [
    "print(max(earthquakes_by_day, key=lambda x: x[\"value\"]))\n",
    "print(min(earthquakes_by_day, key=lambda x: x[\"value\"]))"
   ]
  },
  {
   "cell_type": "code",
   "execution_count": null,
   "metadata": {
    "collapsed": true
   },
   "outputs": [],
   "source": []
  }
 ],
 "metadata": {
  "kernelspec": {
   "display_name": "Python 3",
   "language": "python",
   "name": "python3"
  },
  "language_info": {
   "codemirror_mode": {
    "name": "ipython",
    "version": 3
   },
   "file_extension": ".py",
   "mimetype": "text/x-python",
   "name": "python",
   "nbconvert_exporter": "python",
   "pygments_lexer": "ipython3",
   "version": "3.5.2"
  }
 },
 "nbformat": 4,
 "nbformat_minor": 1
}
