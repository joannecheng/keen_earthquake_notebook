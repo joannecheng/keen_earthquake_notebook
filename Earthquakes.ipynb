{
 "cells": [
  {
   "cell_type": "code",
   "execution_count": 64,
   "metadata": {
    "collapsed": false
   },
   "outputs": [],
   "source": [
    "import keen\n",
    "from keen.client import KeenClient\n",
    "import arrow\n",
    "\n",
    "KEEN_PROJECT_ID = \"572dfdae3831443195b2f30c\"\n",
    "KEEN_READ_KEY = \"5de7f166da2e36f6c8617347a7a729cfda6d5413db8d88d7f696b61ddaa4fe1e5cdb7d019de9bb0ac846d91e83cdac01e973585d0fba43fadf92f06a695558b890665da824a0cf6a946ac09f5746c9102d228a1165323fdd0c52c92b80e78eca\"\n",
    "\n",
    "client = KeenClient(\n",
    "    project_id=KEEN_PROJECT_ID,\n",
    "    read_key=KEEN_READ_KEY\n",
    ")\n",
    "\n",
    "earthquakes_by_day = client.count_unique(\"earthquakes\",\n",
    "    timeframe={\n",
    "        \"start\": arrow.get(2016, 9, 20).format(),\n",
    "        \"end\": arrow.get(2016, 10, 20).format()\n",
    "    },\n",
    "    target_property=\"id\",\n",
    "    interval=\"daily\"\n",
    ")\n",
    "\n",
    "# This is what all the data means\n",
    "# https://earthquake.usgs.gov/data/comcat/data-eventterms.php"
   ]
  },
  {
   "cell_type": "code",
   "execution_count": 65,
   "metadata": {
    "collapsed": false
   },
   "outputs": [],
   "source": [
    "# Populate y axis values - get number of earthquakes by day\n",
    "earthquake_counts = list(map(lambda x: x[\"value\"], earthquakes_by_day))\n",
    "\n",
    "# Populate x axis values - get dates\n",
    "earthquake_dates = list(\n",
    "    map(lambda x: arrow.get(x[\"timeframe\"][\"start\"]).format(\"M-DD\"), earthquakes_by_day)\n",
    ")"
   ]
  },
  {
   "cell_type": "code",
   "execution_count": 66,
   "metadata": {
    "collapsed": false
   },
   "outputs": [
    {
     "data": {
      "text/plain": [
       "<matplotlib.text.Text at 0x1179cd908>"
      ]
     },
     "execution_count": 66,
     "metadata": {},
     "output_type": "execute_result"
    },
    {
     "data": {
      "image/png": "[encoded data removed]",
      "text/plain": [
       "<matplotlib.figure.Figure at 0x117a4d828>"
      ]
     },
     "metadata": {},
     "output_type": "display_data"
    }
   ],
   "source": [
    "%matplotlib inline\n",
    "# Let's create a bar chart!\n",
    "# Creating a Bar Chart\n",
    "# http://matplotlib.org/examples/api/barchart_demo.html\n",
    "\n",
    "import numpy as np\n",
    "import matplotlib.pyplot as plt\n",
    "\n",
    "x_locations = np.arange(len(earthquakes_by_day))\n",
    "bar_width = 0.85\n",
    "bar_color = (64/255.0, 74/255.0, 84/255.0)\n",
    "\n",
    "# Setting size of the plot\n",
    "fig = plt.figure(figsize=(10, 10))\n",
    "\n",
    "# Creating a bar chart\n",
    "plt.bar(x_locations, earthquake_counts, bar_width, color=bar_color)\n",
    "\n",
    "# Plot x axis values, rotate, plot _every other_ date for cleaner plot\n",
    "plt.xticks(x_locations[::2], earthquake_dates[::2], rotation=45)\n",
    "\n",
    "# Let's add some text labels to make this easier to read:\n",
    "\n",
    "# Get the axis object\n",
    "ax = fig.add_subplot(111)\n",
    "\n",
    "ax.set_title(\"Number of Earthquakes Worldwide\")\n",
    "ax.set_ylabel(\"Earthquakes per day\")\n",
    "ax.set_xlabel(\"Date (2016)\")"
   ]
  },
  {
   "cell_type": "code",
   "execution_count": 68,
   "metadata": {
    "collapsed": false
   },
   "outputs": [],
   "source": [
    "# It looks like there were a LOT of earthquakes 9-27 to 9-28\n",
    "# Let's dig a bit deeper\n",
    "\n",
    "# Let's count how many earthquakes there were\n",
    "earthquake_places = client.count_unique(\"earthquakes\",\n",
    "    timeframe={\n",
    "        \"start\": arrow.get(2016, 9, 27).format(),\n",
    "        \"end\": arrow.get(2016, 9, 30).format()\n",
    "    }\n",
    ")\n",
    "\n",
    "# How about earthquakes with a magnitude more than 1.0?\n",
    "\n",
    "# What else can we try to find in this data?\n",
    "# Where the most earthquakes were? This involves some geo tools\n",
    "# How about Pandas work? Let's take this array and turn it into a Pandas DS.\n",
    "# We can do things like find the mean magnitude\n"
   ]
  },
  {
   "cell_type": "code",
   "execution_count": null,
   "metadata": {
    "collapsed": false
   },
   "outputs": [],
   "source": []
  },
  {
   "cell_type": "code",
   "execution_count": null,
   "metadata": {
    "collapsed": true
   },
   "outputs": [],
   "source": []
  }
 ],
 "metadata": {
  "kernelspec": {
   "display_name": "Python 3",
   "language": "python",
   "name": "python3"
  },
  "language_info": {
   "codemirror_mode": {
    "name": "ipython",
    "version": 3
   },
   "file_extension": ".py",
   "mimetype": "text/x-python",
   "name": "python",
   "nbconvert_exporter": "python",
   "pygments_lexer": "ipython3",
   "version": "3.5.2"
  }
 },
 "nbformat": 4,
 "nbformat_minor": 1
}
