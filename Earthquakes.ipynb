{
 "cells": [
  {
   "cell_type": "code",
   "execution_count": 1,
   "metadata": {
    "collapsed": false
   },
   "outputs": [
    {
     "name": "stdout",
     "output_type": "stream",
     "text": [
      "[{'value': 281, 'timeframe': {'start': '2016-09-20T00:00:00.000Z', 'end': '2016-09-21T00:00:00.000Z'}}, {'value': 286, 'timeframe': {'start': '2016-09-21T00:00:00.000Z', 'end': '2016-09-22T00:00:00.000Z'}}, {'value': 262, 'timeframe': {'start': '2016-09-22T00:00:00.000Z', 'end': '2016-09-23T00:00:00.000Z'}}, {'value': 274, 'timeframe': {'start': '2016-09-23T00:00:00.000Z', 'end': '2016-09-24T00:00:00.000Z'}}, {'value': 287, 'timeframe': {'start': '2016-09-24T00:00:00.000Z', 'end': '2016-09-25T00:00:00.000Z'}}, {'value': 339, 'timeframe': {'start': '2016-09-25T00:00:00.000Z', 'end': '2016-09-26T00:00:00.000Z'}}, {'value': 473, 'timeframe': {'start': '2016-09-26T00:00:00.000Z', 'end': '2016-09-27T00:00:00.000Z'}}, {'value': 509, 'timeframe': {'start': '2016-09-27T00:00:00.000Z', 'end': '2016-09-28T00:00:00.000Z'}}, {'value': 456, 'timeframe': {'start': '2016-09-28T00:00:00.000Z', 'end': '2016-09-29T00:00:00.000Z'}}, {'value': 326, 'timeframe': {'start': '2016-09-29T00:00:00.000Z', 'end': '2016-09-30T00:00:00.000Z'}}, {'value': 273, 'timeframe': {'start': '2016-09-30T00:00:00.000Z', 'end': '2016-10-01T00:00:00.000Z'}}, {'value': 284, 'timeframe': {'start': '2016-10-01T00:00:00.000Z', 'end': '2016-10-02T00:00:00.000Z'}}, {'value': 305, 'timeframe': {'start': '2016-10-02T00:00:00.000Z', 'end': '2016-10-03T00:00:00.000Z'}}, {'value': 282, 'timeframe': {'start': '2016-10-03T00:00:00.000Z', 'end': '2016-10-04T00:00:00.000Z'}}, {'value': 300, 'timeframe': {'start': '2016-10-04T00:00:00.000Z', 'end': '2016-10-05T00:00:00.000Z'}}, {'value': 341, 'timeframe': {'start': '2016-10-05T00:00:00.000Z', 'end': '2016-10-06T00:00:00.000Z'}}, {'value': 311, 'timeframe': {'start': '2016-10-06T00:00:00.000Z', 'end': '2016-10-07T00:00:00.000Z'}}, {'value': 322, 'timeframe': {'start': '2016-10-07T00:00:00.000Z', 'end': '2016-10-08T00:00:00.000Z'}}, {'value': 331, 'timeframe': {'start': '2016-10-08T00:00:00.000Z', 'end': '2016-10-09T00:00:00.000Z'}}, {'value': 365, 'timeframe': {'start': '2016-10-09T00:00:00.000Z', 'end': '2016-10-10T00:00:00.000Z'}}, {'value': 339, 'timeframe': {'start': '2016-10-10T00:00:00.000Z', 'end': '2016-10-11T00:00:00.000Z'}}, {'value': 319, 'timeframe': {'start': '2016-10-11T00:00:00.000Z', 'end': '2016-10-12T00:00:00.000Z'}}, {'value': 229, 'timeframe': {'start': '2016-10-12T00:00:00.000Z', 'end': '2016-10-13T00:00:00.000Z'}}, {'value': 244, 'timeframe': {'start': '2016-10-13T00:00:00.000Z', 'end': '2016-10-14T00:00:00.000Z'}}, {'value': 294, 'timeframe': {'start': '2016-10-14T00:00:00.000Z', 'end': '2016-10-15T00:00:00.000Z'}}, {'value': 260, 'timeframe': {'start': '2016-10-15T00:00:00.000Z', 'end': '2016-10-16T00:00:00.000Z'}}, {'value': 254, 'timeframe': {'start': '2016-10-16T00:00:00.000Z', 'end': '2016-10-17T00:00:00.000Z'}}, {'value': 249, 'timeframe': {'start': '2016-10-17T00:00:00.000Z', 'end': '2016-10-18T00:00:00.000Z'}}, {'value': 221, 'timeframe': {'start': '2016-10-18T00:00:00.000Z', 'end': '2016-10-19T00:00:00.000Z'}}, {'value': 255, 'timeframe': {'start': '2016-10-19T00:00:00.000Z', 'end': '2016-10-20T00:00:00.000Z'}}]\n"
     ]
    }
   ],
   "source": [
    "import keen\n",
    "from keen.client import KeenClient\n",
    "import arrow\n",
    "\n",
    "KEEN_PROJECT_ID = \"572dfdae3831443195b2f30c\"\n",
    "KEEN_READ_KEY = \"5de7f166da2e36f6c8617347a7a729cfda6d5413db8d88d7f696b61ddaa4fe1e5cdb7d019de9bb0ac846d91e83cdac01e973585d0fba43fadf92f06a695558b890665da824a0cf6a946ac09f5746c9102d228a1165323fdd0c52c92b80e78eca\"\n",
    "\n",
    "client = KeenClient(\n",
    "    project_id=KEEN_PROJECT_ID,\n",
    "    read_key=KEEN_READ_KEY\n",
    ")\n",
    "\n",
    "earthquakes_by_day = client.count_unique(\"earthquakes\",\n",
    "    timeframe={\n",
    "        \"start\": arrow.get(2016, 9, 20).format(),\n",
    "        \"end\": arrow.get(2016, 10, 20).format()\n",
    "    },\n",
    "    target_property=\"id\",\n",
    "    interval=\"daily\"\n",
    ")\n",
    "\n",
    "print(earthquakes_by_day)\n",
    "# This is what all the data means\n",
    "# https://earthquake.usgs.gov/data/comcat/data-eventterms.php"
   ]
  },
  {
   "cell_type": "code",
   "execution_count": 2,
   "metadata": {
    "collapsed": false
   },
   "outputs": [],
   "source": [
    "# Populate y axis values - get number of earthquakes by day\n",
    "earthquake_counts = list(map(lambda x: x[\"value\"], earthquakes_by_day))\n",
    "\n",
    "# Populate x axis values - get dates\n",
    "earthquake_dates = list(\n",
    "    map(lambda x: arrow.get(x[\"timeframe\"][\"start\"]).format(\"M-DD\"), earthquakes_by_day)\n",
    ")"
   ]
  },
  {
   "cell_type": "code",
   "execution_count": 8,
   "metadata": {
    "collapsed": false,
    "scrolled": true
   },
   "outputs": [
    {
     "data": {
      "text/plain": [
       "<matplotlib.text.Text at 0x105bc0ba8>"
      ]
     },
     "execution_count": 8,
     "metadata": {},
     "output_type": "execute_result"
    },
    {
     "data": {
      "image/png": "[encoded data removed]",
      "text/plain": [
       "<matplotlib.figure.Figure at 0x109893048>"
      ]
     },
     "metadata": {},
     "output_type": "display_data"
    }
   ],
   "source": [
    "%matplotlib inline\n",
    "# Let's create a bar chart!\n",
    "# http://matplotlib.org/examples/api/barchart_demo.html\n",
    "\n",
    "import numpy as np\n",
    "import matplotlib.pyplot as plt\n",
    "\n",
    "x_locations = np.arange(len(earthquakes_by_day))\n",
    "bar_width = 0.85\n",
    "bar_color = (64/255.0, 74/255.0, 84/255.0)\n",
    "\n",
    "# Setting size of the plot\n",
    "fig = plt.figure(figsize=(10, 10))\n",
    "\n",
    "# Creating a bar chart\n",
    "plt.bar(x_locations, earthquake_counts, bar_width, color=bar_color)\n",
    "\n",
    "# Plot x axis values, rotate, plot _every other_ date for cleaner plot\n",
    "plt.xticks(x_locations[::2], earthquake_dates[::2], rotation=45)\n",
    "\n",
    "# Let's add some text labels to make this easier to read:\n",
    "\n",
    "# Get the axis object\n",
    "ax = fig.add_subplot(111)\n",
    "\n",
    "ax.set_title(\"Number of Earthquakes Worldwide\")\n",
    "ax.set_ylabel(\"Earthquakes per day\")\n",
    "ax.set_xlabel(\"Date (2016)\")"
   ]
  },
  {
   "cell_type": "code",
   "execution_count": null,
   "metadata": {
    "collapsed": true
   },
   "outputs": [],
   "source": [
    "earthquake_extraction = client.extraction(\"earthquakes\",\n",
    "    timeframe={\n",
    "        \"start\": arrow.get(2016, 10, 1).format(),\n",
    "        \"end\": arrow.get(2016, 11, 1).format()\n",
    "    },\n",
    "    filters=[\n",
    "        {\n",
    "            \"property_name\": \"keen.location.coordinates\",\n",
    "            \"operator\": \"within\",\n",
    "            \"property_value\": {\n",
    "                \"coordinates\": [ -122.42005, 37.77479 ],\n",
    "                \"max_distance_miles\": 200\n",
    "            }\n",
    "        }\n",
    "    ]\n",
    ")"
   ]
  },
  {
   "cell_type": "code",
   "execution_count": null,
   "metadata": {
    "collapsed": false
   },
   "outputs": [],
   "source": [
    "## Locations\n",
    "from mpl_toolkits.basemap import Basemap\n",
    "plt.figure(figsize=(15, 10))\n",
    "\n",
    "world_map = Basemap(\n",
    "            resolution='i',projection='cass',\\\n",
    "            #lat_1=36.,lat_2=38,\n",
    "            lon_0=-122,lat_0=37,\\\n",
    "            width=1000000, height=1000000,\n",
    "            urcrnrlon=-134.25, urcrnrlat=44.75)\n",
    "\n",
    "world_map.drawcoastlines()\n",
    "world_map.drawmapboundary(fill_color=\"white\")\n",
    "\n",
    "for earthquake in earthquake_extraction:\n",
    "    coords = earthquake[\"keen\"][\"location\"][\"coordinates\"]\n",
    "    x, y = world_map(coords[0], coords[1])\n",
    "    color = \"#3030ff\" if earthquake[\"mag\"] < 3.0 else \"#ff3030\"\n",
    "    world_map.plot(x, y, \"o\", color=color, markersize=earthquake[\"mag\"]*3, alpha=0.6)\n",
    "    \n",
    "plt.show()"
   ]
  },
  {
   "cell_type": "code",
   "execution_count": null,
   "metadata": {
    "collapsed": false
   },
   "outputs": [],
   "source": [
    "oklahoma_earthquakes = client.extraction(\"earthquakes\",\n",
    "    timeframe={\n",
    "        \"start\": arrow.get(2016, 10, 1).format(),\n",
    "        \"end\": arrow.get(2016, 11, 1).format()\n",
    "    },\n",
    "    filters=[\n",
    "        {\n",
    "            \"property_name\": \"keen.location.coordinates\",\n",
    "            \"operator\": \"within\",\n",
    "            \"property_value\": {\n",
    "                \"coordinates\": [ -97.0929, 35 ],\n",
    "                \"max_distance_miles\": 300\n",
    "            }\n",
    "        }\n",
    "    ]\n",
    ")\n",
    "\n",
    "from mpl_toolkits.basemap import Basemap\n",
    "plt.figure(figsize=(15, 10))\n",
    "\n",
    "world_map = Basemap(\n",
    "            resolution='i',projection='cass',\\\n",
    "            #lat_1=36.,lat_2=38,\n",
    "            lon_0=-97.0929,lat_0=35,\\\n",
    "            width=1000000, height=1000000,\n",
    "            urcrnrlon=-98.25, urcrnrlat=37.75)\n",
    "\n",
    "world_map.drawstates()\n",
    "world_map.drawmapboundary(fill_color=\"white\")\n",
    "\n",
    "for earthquake in oklahoma_earthquakes:\n",
    "    coords = earthquake[\"keen\"][\"location\"][\"coordinates\"]\n",
    "    x, y = world_map(coords[0], coords[1])\n",
    "    color = \"#3030ff\" if earthquake[\"mag\"] <= 3.0 else \"#ff3030\"\n",
    "    world_map.plot(x, y, \"o\", color=color, markersize=earthquake[\"mag\"]*3, alpha=0.6)\n",
    "    \n",
    "plt.show()"
   ]
  },
  {
   "cell_type": "code",
   "execution_count": null,
   "metadata": {
    "collapsed": false
   },
   "outputs": [],
   "source": []
  },
  {
   "cell_type": "code",
   "execution_count": null,
   "metadata": {
    "collapsed": true
   },
   "outputs": [],
   "source": []
  }
 ],
 "metadata": {
  "kernelspec": {
   "display_name": "Python 3",
   "language": "python",
   "name": "python3"
  },
  "language_info": {
   "codemirror_mode": {
    "name": "ipython",
    "version": 3
   },
   "file_extension": ".py",
   "mimetype": "text/x-python",
   "name": "python",
   "nbconvert_exporter": "python",
   "pygments_lexer": "ipython3",
   "version": "3.5.2"
  }
 },
 "nbformat": 4,
 "nbformat_minor": 1
}
